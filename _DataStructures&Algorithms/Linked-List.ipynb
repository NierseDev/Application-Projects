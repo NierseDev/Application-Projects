{
 "cells": [
  {
   "cell_type": "markdown",
   "metadata": {},
   "source": [
    "#  Linked List Implementation using List ADT (Array)\n",
    "### Defining the Class \"Node\""
   ]
  },
  {
   "cell_type": "code",
   "execution_count": null,
   "metadata": {},
   "outputs": [
    {
     "ename": "",
     "evalue": "",
     "output_type": "error",
     "traceback": [
      "\u001b[1;31mRunning cells with 'c:\\Users\\user\\AppData\\Local\\Microsoft\\WindowsApps\\python3.11.exe' requires the ipykernel package.\n",
      "\u001b[1;31mRun the following command to install 'ipykernel' into the Python environment. \n",
      "\u001b[1;31mCommand: 'c:/Users/user/AppData/Local/Microsoft/WindowsApps/python3.11.exe -m pip install ipykernel -U --user --force-reinstall'"
     ]
    }
   ],
   "source": [
    "class Node:\n",
    "    def __init__(self, data):\n",
    "        self.data = data\n",
    "        self.next = None"
   ]
  },
  {
   "cell_type": "markdown",
   "metadata": {},
   "source": [
    "### Defining the Linked List Function"
   ]
  },
  {
   "cell_type": "code",
   "execution_count": null,
   "metadata": {},
   "outputs": [
    {
     "ename": "",
     "evalue": "",
     "output_type": "error",
     "traceback": [
      "\u001b[1;31mRunning cells with 'c:\\Users\\user\\AppData\\Local\\Microsoft\\WindowsApps\\python3.11.exe' requires the ipykernel package.\n",
      "\u001b[1;31mRun the following command to install 'ipykernel' into the Python environment. \n",
      "\u001b[1;31mCommand: 'c:/Users/user/AppData/Local/Microsoft/WindowsApps/python3.11.exe -m pip install ipykernel -U --user --force-reinstall'"
     ]
    }
   ],
   "source": [
    "class Sample_LinkedList:\n",
    "    def __init__(self):\n",
    "        self.head = None\n",
    "\n",
    "    # Function to add an Item at the Start of the Linked List\n",
    "    def appendBegin(self, newdata):\n",
    "        NewNode = Node(newdata)\n",
    "        NewNode.next = self.head\n",
    "        self.head = NewNode\n",
    "\n",
    "    # Function to add an Item at the Center or In-Between two elements of a Linked List\n",
    "    def appendCenter(self, mid, newdata):\n",
    "        if mid is None:\n",
    "            print(\"The mentioned node is absent\")\n",
    "            return\n",
    "\n",
    "        NewNode = Node(newdata)\n",
    "        NewNode.next = mid.next\n",
    "        mid.next = NewNode\n",
    "\n",
    "    # Function to add an Item at the end of the Linked List\n",
    "    def append(self, newdata):\n",
    "        new_node = Node(newdata)\n",
    "        if self.head is None:\n",
    "            self.head = new_node\n",
    "        else:\n",
    "            current = self.head\n",
    "            while current.next:\n",
    "                current = current.next\n",
    "            current.next = new_node\n",
    "\n",
    "    # Remove a Node from anywhere at the Linked List\n",
    "    def RemoveNode(self, removeNode):\n",
    "            ptr = self.head\n",
    "            \n",
    "            if (ptr is not None):\n",
    "                #remove at the head\n",
    "                if (ptr.data == removeNode):\n",
    "                    self.head = ptr.next\n",
    "                    ptr = None\n",
    "                    return\n",
    "            #remove until val is found\n",
    "            while (ptr is not None):\n",
    "                if ptr.data == removeNode:\n",
    "                    break\n",
    "                prev = ptr\n",
    "                ptr = ptr.next\n",
    "            \n",
    "            #remove element not found\n",
    "            if (ptr == None):\n",
    "                return\n",
    "\n",
    "            prev.next = ptr.next\n",
    "            ptr = None\n",
    "\n",
    "    # Delete a Number from the Linked List\n",
    "    def DeleteNum(self, number):\n",
    "        if self.head is None:\n",
    "            return\n",
    "        \n",
    "        current = self.head\n",
    "        prev = None\n",
    "\n",
    "        while current is not None:\n",
    "            if current.data == number:\n",
    "                if prev is not None:\n",
    "                    prev.next = current.next\n",
    "                else:\n",
    "                    self.head = current.next\n",
    "                current = None\n",
    "                return\n",
    "            prev = current\n",
    "            current = current.next\n",
    "    \n",
    "    # Search a Number from the Linked List\n",
    "    def SearchNum(self, number):\n",
    "        if self.head is None:\n",
    "            return False\n",
    "        \n",
    "        current = self.head\n",
    "\n",
    "        while current is not None:\n",
    "            if current.data == number:\n",
    "                return True\n",
    "            current = current.next\n",
    "\n",
    "        return False\n",
    "\n",
    "    # Display the Linked List\n",
    "    def display(self):\n",
    "        current = self.head\n",
    "        while current:\n",
    "            print(current.data, end = \" \")\n",
    "            current = current.next\n",
    "        print()\n",
    "\n",
    "    # Display the Position of a Number\n",
    "    def DisplayNumber_atPosition(self, position):\n",
    "        if self.head is None:\n",
    "            return None\n",
    "        \n",
    "        current = self.head\n",
    "        count = 0\n",
    "\n",
    "        while current is not None:\n",
    "            if count == position:\n",
    "                return current.data\n",
    "            current = current.next\n",
    "            count += 1\n",
    "\n",
    "        return None"
   ]
  },
  {
   "cell_type": "markdown",
   "metadata": {},
   "source": [
    "## The Main Program"
   ]
  },
  {
   "cell_type": "code",
   "execution_count": null,
   "metadata": {},
   "outputs": [
    {
     "ename": "",
     "evalue": "",
     "output_type": "error",
     "traceback": [
      "\u001b[1;31mRunning cells with 'c:\\Users\\user\\AppData\\Local\\Microsoft\\WindowsApps\\python3.11.exe' requires the ipykernel package.\n",
      "\u001b[1;31mRun the following command to install 'ipykernel' into the Python environment. \n",
      "\u001b[1;31mCommand: 'c:/Users/user/AppData/Local/Microsoft/WindowsApps/python3.11.exe -m pip install ipykernel -U --user --force-reinstall'"
     ]
    }
   ],
   "source": [
    "class Main:\n",
    "\n",
    "    # Initializing the Linked List\n",
    "    LinkedList = Sample_LinkedList()\n",
    "\n",
    "    # To Display the Menu Items\n",
    "    print(\"\"\"\n",
    "          [0] Exit              [6] Delete Last\n",
    "          [1] Insert Beginning  [7] Delete Number\n",
    "          [2] Insert Center     [8] Search Number\n",
    "          [3] Insert Last       [9] Display Number at Position\n",
    "          [4] Delete Beginning  [10] Display List\n",
    "          [5] Delete Center\n",
    "          \"\"\")\n",
    "    \n",
    "    userInput = \"\"\n",
    "\n",
    "    while True:\n",
    "        userInput = str(input(\"Enter Number from Selection: \"))     #Read User Input\n",
    "\n",
    "        match userInput:    #Provide Choices to the User\n",
    "            case '0':\n",
    "                exit()\n",
    "            case '1':\n",
    "                Insert = str(input(\"Enter Number to Insert at the start of the List: \"))\n",
    "                LinkedList.appendBegin(Insert)\n",
    "            case '2':\n",
    "                Insert = str(input(\"Enter Number to Insert at the Cemter of the List: \"))\n",
    "                LinkedList.appendCenter(Insert)\n",
    "            case '3':\n",
    "                Insert = str(input(\"Enter Number to Insert at the Last of the List: \"))\n",
    "                LinkedList.append(Insert)\n",
    "            case '4', '5', '6':\n",
    "                Delete = str(input(\"Enter Node Number to Delete: \"))\n",
    "                LinkedList.RemoveNode(Delete)\n",
    "            case '7':\n",
    "                Delete_Num = str(input(\"Enter a Number to Delete: \"))\n",
    "                LinkedList.DeleteNum(Delete_Num)\n",
    "            case '8':\n",
    "                Search_Num = str(input(\"Enter a Number to Search: \"))\n",
    "                LinkedList.SearchNum(Search_Num)\n",
    "            case '9':\n",
    "                NumPos = str(input(\"Enter a Number to search for its position: \"))\n",
    "                LinkedList.DisplayNumber_atPosition(NumPos)\n",
    "            case '10':\n",
    "                LinkedList.display()\n",
    "\n",
    "        \n",
    "        continue_input = str(input(\"Do you want to continue? (yes/no): \"))  #To return back to the user input everytime the Match-Case ends\n",
    "        if continue_input.lower() != \"yes\":\n",
    "            break"
   ]
  }
 ],
 "metadata": {
  "kernelspec": {
   "display_name": "Python 3",
   "language": "python",
   "name": "python3"
  },
  "language_info": {
   "name": "python",
   "version": "3.11.5"
  },
  "orig_nbformat": 4
 },
 "nbformat": 4,
 "nbformat_minor": 2
}
